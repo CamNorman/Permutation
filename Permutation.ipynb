{
  "nbformat": 4,
  "nbformat_minor": 0,
  "metadata": {
    "colab": {
      "provenance": []
    },
    "kernelspec": {
      "name": "python3",
      "display_name": "Python 3"
    },
    "language_info": {
      "name": "python"
    }
  },
  "cells": [
    {
      "cell_type": "code",
      "source": [
        "import pandas as pd"
      ],
      "metadata": {
        "id": "HiCX71vOXWPT"
      },
      "execution_count": null,
      "outputs": []
    },
    {
      "cell_type": "code",
      "execution_count": null,
      "metadata": {
        "id": "5FdA28HjROw8"
      },
      "outputs": [],
      "source": [
        "# Import libraries, load data, and view import pandas as pd\n",
        "url = \"https://raw.githubusercontent.com/bloominstituteoftechnology/DS-Unit-2-Kaggle-Challenge/main/data/weather/weatherAUS.csv\"\n",
        "weather = pd.read_csv(url)\n",
        "weather.head()\n",
        "\n",
        "# Drop columns with high-percentage of missing values (and the leaky feature)\n",
        "cols_drop = ['Location', 'Evaporation', 'Sunshine', 'Cloud9am', 'Cloud3pm', 'RISK_MM']\n",
        "weather_drop = weather.drop(cols_drop, axis=1)\n",
        "\n",
        "# Convert the 'Date' column to datetime, extract month\n",
        "weather_drop['Date'] = pd.to_datetime(weather_drop['Date'], infer_datetime_format=True).dt.month"
      ]
    },
    {
      "cell_type": "code",
      "source": [
        "# Imports\n",
        "import pandas as pd\n",
        "import numpy as np\n",
        "\n",
        "from sklearn.compose import ColumnTransformer\n",
        "from sklearn.pipeline import Pipeline\n",
        "from sklearn.impute import SimpleImputer\n",
        "from sklearn.preprocessing import StandardScaler, OrdinalEncoder\n",
        "from sklearn.tree import DecisionTreeClassifier\n",
        "\n",
        "\n",
        "# Define the numeric features\n",
        "numeric_features = ['MinTemp', 'MaxTemp', 'Rainfall', 'WindGustSpeed',\n",
        "                    'WindSpeed9am','WindSpeed3pm', 'Humidity9am',\n",
        "                    'Humidity3pm', 'Pressure9am','Pressure3pm',\n",
        "                    'Temp9am', 'Temp3pm']\n",
        "\n",
        "# Create the transformer (impute, scale)\n",
        "numeric_transformer = Pipeline(steps=[\n",
        "    ('imputer', SimpleImputer(strategy='median')),\n",
        "    ('scaler', StandardScaler())])\n",
        "\n",
        "# Define the categorical features\n",
        "categorical_features = ['WindGustDir', 'WindDir9am', 'WindDir3pm', 'RainToday']\n",
        "categorical_transformer = Pipeline(steps=[\n",
        "    ('imputer', SimpleImputer(strategy='constant', fill_value='missing')),\n",
        "    ('ordinal', OrdinalEncoder())])\n",
        "\n",
        "# Define how the numeric and categorical features will be transformed\n",
        "preprocessor = ColumnTransformer(\n",
        "    transformers=[\n",
        "        ('num', numeric_transformer, numeric_features),\n",
        "        ('cat', categorical_transformer, categorical_features)])\n",
        "\n",
        "# Define the pipeline steps, including the classifier\n",
        "clf = Pipeline(steps=[('preprocessor', preprocessor),\n",
        "                  ('classifier', DecisionTreeClassifier())])"
      ],
      "metadata": {
        "id": "0GDRnHrFXSGf"
      },
      "execution_count": null,
      "outputs": []
    },
    {
      "cell_type": "code",
      "source": [
        "# Create the feature matrix\n",
        "X = weather_drop.drop('RainTomorrow', axis=1)\n",
        "\n",
        "# Create and encode the target array\n",
        "from sklearn.preprocessing import LabelEncoder\n",
        "label_enc = LabelEncoder()\n",
        "y=label_enc.fit_transform(weather_drop['RainTomorrow'])\n",
        "\n",
        "# Import the train_test_split utility\n",
        "from sklearn.model_selection import train_test_split\n",
        "\n",
        "# Create the training and test sets\n",
        "X_train, X_test, y_train, y_test = train_test_split(\n",
        "    X, y, test_size=0.2, random_state=42)\n",
        "\n",
        "# Fit the model\n",
        "clf.fit(X_train,y_train)\n",
        "print('Validation Accuracy', clf.score(X_test, y_test))\n"
      ],
      "metadata": {
        "colab": {
          "base_uri": "https://localhost:8080/"
        },
        "id": "fVSSrKbBXoq-",
        "outputId": "62afdd57-057f-498a-8c19-be058e2d6206"
      },
      "execution_count": null,
      "outputs": [
        {
          "output_type": "stream",
          "name": "stdout",
          "text": [
            "Validation Accuracy 0.7665615141955836\n"
          ]
        }
      ]
    },
    {
      "cell_type": "code",
      "source": [
        "# Features (order in which they were preprocessed)\n",
        "features_order = numeric_features + categorical_features\n",
        "\n",
        "importances = pd.Series(clf.steps[1][1].feature_importances_, features_order)\n",
        "\n",
        "# Plot feature importances\n",
        "import matplotlib.pyplot as plt\n",
        "\n",
        "n = 10\n",
        "plt.figure(figsize=(10,n/2))\n",
        "plt.title(f'Top {n} features')\n",
        "importances.sort_values()[-n:].plot.barh(color='grey')\n",
        "\n",
        "plt.show()"
      ],
      "metadata": {
        "colab": {
          "base_uri": "https://localhost:8080/",
          "height": 468
        },
        "id": "RElFzCBCYdKz",
        "outputId": "db7cdbfc-1874-4866-95f4-858b8e46b275"
      },
      "execution_count": null,
      "outputs": [
        {
          "output_type": "display_data",
          "data": {
            "text/plain": [
              "<Figure size 1000x500 with 1 Axes>"
            ],
            "image/png": "[encoded data removed]"
          },
          "metadata": {}
        }
      ]
    },
    {
      "cell_type": "code",
      "source": [
        "# Permute the values in the more important column\n",
        "feature = 'Humidity3pm'\n",
        "X_test_permuted = X_test.copy()\n",
        "\n",
        "# Fill in missing values\n",
        "X_test_permuted[feature].fillna(value = X_test_permuted[feature].median(), inplace=True)\n",
        "\n",
        "# Permute\n",
        "X_test_permuted[feature] = np.random.permutation(X_test[feature])\n",
        "\n",
        "print('Feature permuted: ', feature)\n",
        "print('Validation Accuracy', clf.score(X_test, y_test))\n",
        "print('Validation Accuracy (permuted)', clf.score(X_test_permuted, y_test))"
      ],
      "metadata": {
        "colab": {
          "base_uri": "https://localhost:8080/"
        },
        "id": "vXrqGXusYero",
        "outputId": "5b3b2b39-58a6-475e-d795-ab0122af4a4c"
      },
      "execution_count": null,
      "outputs": [
        {
          "output_type": "stream",
          "name": "stdout",
          "text": [
            "Feature permuted:  Humidity3pm\n",
            "Validation Accuracy 0.7679891316862004\n",
            "Validation Accuracy (permuted) 0.6710262727670451\n"
          ]
        }
      ]
    },
    {
      "cell_type": "code",
      "source": [
        "# Permute the values in the more important column\n",
        "feature = 'WindSpeed3pm'\n",
        "X_test_permuted = X_test.copy()\n",
        "\n",
        "# Fill in missing values\n",
        "X_test_permuted[feature].fillna(value = X_test_permuted[feature].median(), inplace=True)\n",
        "\n",
        "# Permute\n",
        "X_test_permuted[feature] = np.random.permutation(X_test[feature])\n",
        "\n",
        "print('Feature permuted: ', feature)\n",
        "print('Validation Accuracy', clf.score(X_test, y_test))\n",
        "print('Validation Accuracy (permuted)', clf.score(X_test_permuted, y_test))"
      ],
      "metadata": {
        "colab": {
          "base_uri": "https://localhost:8080/"
        },
        "id": "y12uWUchapcx",
        "outputId": "2db60f53-d550-4770-d431-8bd33cffd837"
      },
      "execution_count": null,
      "outputs": [
        {
          "output_type": "stream",
          "name": "stdout",
          "text": [
            "Feature permuted:  WindSpeed3pm\n",
            "Validation Accuracy 0.7679891316862004\n",
            "Validation Accuracy (permuted) 0.7547951829422735\n"
          ]
        }
      ]
    },
    {
      "cell_type": "code",
      "source": [],
      "metadata": {
        "id": "dLtpRgt_aUnB"
      },
      "execution_count": null,
      "outputs": []
    },
    {
      "cell_type": "code",
      "source": [
        "# Load in libraries\n",
        "from sklearn import datasets\n",
        "from sklearn.model_selection import train_test_split\n",
        "\n",
        "# Create X, y and training/test sets\n",
        "iris = datasets.load_iris()\n",
        "X = iris.data\n",
        "y = iris.target\n",
        "\n",
        "X_train, X_test, y_train, y_test = train_test_split(\n",
        "    X, y, test_size=0.4, random_state=42)\n",
        "\n",
        "# Import the classifier\n",
        "from sklearn.ensemble import AdaBoostClassifier\n",
        "\n",
        "ada_classifier = AdaBoostClassifier(n_estimators=50, learning_rate=1.5, random_state=42)\n",
        "ada_classifier.fit(X_train,y_train)\n",
        "\n",
        "print('Validation Accuracy: Adaboost', ada_classifier.score(X_test, y_test))\n"
      ],
      "metadata": {
        "colab": {
          "base_uri": "https://localhost:8080/"
        },
        "id": "V6xuLg1Vv_cM",
        "outputId": "d3502001-ad50-4bcd-ce6c-bbfbbf72b53e"
      },
      "execution_count": null,
      "outputs": [
        {
          "output_type": "stream",
          "name": "stdout",
          "text": [
            "Validation Accuracy: Adaboost 0.9666666666666667\n"
          ]
        }
      ]
    },
    {
      "cell_type": "code",
      "source": [
        "# Load xgboost and fit the model\n",
        "from xgboost import XGBClassifier\n",
        "\n",
        "xg_classifier = XGBClassifier(n_estimators=50, random_state=42, eval_metric='merror')\n",
        "\n",
        "xg_classifier.fit(X_train,y_train)\n",
        "\n",
        "print('Validation Accuracy: Adaboost', xg_classifier.score(X_test, y_test))"
      ],
      "metadata": {
        "colab": {
          "base_uri": "https://localhost:8080/"
        },
        "id": "5KAt9XviwAXw",
        "outputId": "d8990bc5-c2df-43bc-f17f-3aaf067b3648"
      },
      "execution_count": null,
      "outputs": [
        {
          "output_type": "stream",
          "name": "stdout",
          "text": [
            "Validation Accuracy: Adaboost 0.9833333333333333\n"
          ]
        }
      ]
    },
    {
      "cell_type": "code",
      "source": [],
      "metadata": {
        "id": "J5A42MgdwMAe"
      },
      "execution_count": null,
      "outputs": []
    }
  ]
}